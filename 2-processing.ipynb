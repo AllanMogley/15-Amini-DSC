{
 "cells": [
  {
   "cell_type": "code",
   "execution_count": 3,
   "metadata": {},
   "outputs": [],
   "source": [
    "import pandas as pd"
   ]
  },
  {
   "cell_type": "code",
   "execution_count": null,
   "metadata": {},
   "outputs": [],
   "source": [
    "path_train = '1-Resources/Technical Assesments/Task 1/train_land_cover_assignment.csv'\n",
    "data_in = pd.read_csv(path_train)"
   ]
  },
  {
   "cell_type": "code",
   "execution_count": 21,
   "metadata": {},
   "outputs": [
    {
     "data": {
      "text/plain": [
       "Index(['subid', 'lat', 'lon', 'building', 'cropland', 'wcover', 'bcount', 'x',\n",
       "       'y', 'bd20', 'bio1', 'bio12', 'bio7', 'bio15', 'cec20', 'dipa', 'dni',\n",
       "       'dnlt', 'dnpa', 'dor1', 'dor2', 'fpara', 'fpars', 'lcc10', 'lcc11',\n",
       "       'lcc12', 'lcc13', 'lcc14', 'lcc21', 'lcc8', 'lcc9', 'lstd', 'lstn',\n",
       "       'mb1', 'mb2', 'mb3', 'mb7', 'mdem', 'mlat', 'mlon', 'nppm', 'npps',\n",
       "       'ph20', 'sirm', 'sirs', 'slope', 'snd20', 'soc20', 'tim'],\n",
       "      dtype='object')"
      ]
     },
     "execution_count": 21,
     "metadata": {},
     "output_type": "execute_result"
    }
   ],
   "source": [
    "data_in.columns"
   ]
  },
  {
   "cell_type": "code",
   "execution_count": 22,
   "metadata": {},
   "outputs": [
    {
     "data": {
      "text/plain": [
       "Index(['subid', 'lat', 'lon', 'bcount', 'x', 'y', 'bd20', 'bio1', 'bio12',\n",
       "       'bio7', 'bio15', 'cec20', 'dipa', 'dni', 'dnlt', 'dnpa', 'dor1', 'dor2',\n",
       "       'fpara', 'fpars', 'lcc10', 'lcc11', 'lcc12', 'lcc13', 'lcc14', 'lcc21',\n",
       "       'lcc8', 'lcc9', 'lstd', 'lstn', 'mb1', 'mb2', 'mb3', 'mb7', 'mdem',\n",
       "       'mlat', 'mlon', 'nppm', 'npps', 'ph20', 'sirm', 'sirs', 'slope',\n",
       "       'snd20', 'soc20', 'tim'],\n",
       "      dtype='object')"
      ]
     },
     "execution_count": 22,
     "metadata": {},
     "output_type": "execute_result"
    }
   ],
   "source": [
    "numerics = data_in.select_dtypes(include='number')\n",
    "numerics.columns"
   ]
  },
  {
   "cell_type": "code",
   "execution_count": 23,
   "metadata": {},
   "outputs": [
    {
     "data": {
      "text/html": [
       "<div>\n",
       "<style scoped>\n",
       "    .dataframe tbody tr th:only-of-type {\n",
       "        vertical-align: middle;\n",
       "    }\n",
       "\n",
       "    .dataframe tbody tr th {\n",
       "        vertical-align: top;\n",
       "    }\n",
       "\n",
       "    .dataframe thead th {\n",
       "        text-align: right;\n",
       "    }\n",
       "</style>\n",
       "<table border=\"1\" class=\"dataframe\">\n",
       "  <thead>\n",
       "    <tr style=\"text-align: right;\">\n",
       "      <th></th>\n",
       "      <th>building</th>\n",
       "      <th>cropland</th>\n",
       "      <th>wcover</th>\n",
       "    </tr>\n",
       "  </thead>\n",
       "  <tbody>\n",
       "    <tr>\n",
       "      <th>0</th>\n",
       "      <td>No</td>\n",
       "      <td>No</td>\n",
       "      <td>&gt;60%</td>\n",
       "    </tr>\n",
       "    <tr>\n",
       "      <th>1</th>\n",
       "      <td>No</td>\n",
       "      <td>Yes</td>\n",
       "      <td>&lt;30%</td>\n",
       "    </tr>\n",
       "    <tr>\n",
       "      <th>2</th>\n",
       "      <td>No</td>\n",
       "      <td>Yes</td>\n",
       "      <td>&lt;30%</td>\n",
       "    </tr>\n",
       "    <tr>\n",
       "      <th>3</th>\n",
       "      <td>No</td>\n",
       "      <td>No</td>\n",
       "      <td>&lt;30%</td>\n",
       "    </tr>\n",
       "    <tr>\n",
       "      <th>4</th>\n",
       "      <td>No</td>\n",
       "      <td>No</td>\n",
       "      <td>&lt;30%</td>\n",
       "    </tr>\n",
       "    <tr>\n",
       "      <th>...</th>\n",
       "      <td>...</td>\n",
       "      <td>...</td>\n",
       "      <td>...</td>\n",
       "    </tr>\n",
       "    <tr>\n",
       "      <th>15851</th>\n",
       "      <td>No</td>\n",
       "      <td>No</td>\n",
       "      <td>&lt;30%</td>\n",
       "    </tr>\n",
       "    <tr>\n",
       "      <th>15852</th>\n",
       "      <td>No</td>\n",
       "      <td>No</td>\n",
       "      <td>&gt;60%</td>\n",
       "    </tr>\n",
       "    <tr>\n",
       "      <th>15853</th>\n",
       "      <td>No</td>\n",
       "      <td>No</td>\n",
       "      <td>&lt;30%</td>\n",
       "    </tr>\n",
       "    <tr>\n",
       "      <th>15854</th>\n",
       "      <td>No</td>\n",
       "      <td>No</td>\n",
       "      <td>&gt;60%</td>\n",
       "    </tr>\n",
       "    <tr>\n",
       "      <th>15855</th>\n",
       "      <td>No</td>\n",
       "      <td>Yes</td>\n",
       "      <td>&gt;60%</td>\n",
       "    </tr>\n",
       "  </tbody>\n",
       "</table>\n",
       "<p>15856 rows × 3 columns</p>\n",
       "</div>"
      ],
      "text/plain": [
       "      building cropland wcover\n",
       "0           No       No   >60%\n",
       "1           No      Yes   <30%\n",
       "2           No      Yes   <30%\n",
       "3           No       No   <30%\n",
       "4           No       No   <30%\n",
       "...        ...      ...    ...\n",
       "15851       No       No   <30%\n",
       "15852       No       No   >60%\n",
       "15853       No       No   <30%\n",
       "15854       No       No   >60%\n",
       "15855       No      Yes   >60%\n",
       "\n",
       "[15856 rows x 3 columns]"
      ]
     },
     "execution_count": 23,
     "metadata": {},
     "output_type": "execute_result"
    }
   ],
   "source": [
    "cats = data_in.select_dtypes(include='object')\n",
    "cats"
   ]
  },
  {
   "cell_type": "code",
   "execution_count": 30,
   "metadata": {},
   "outputs": [
    {
     "data": {
      "text/plain": [
       "subid        0\n",
       "lat          0\n",
       "lon          0\n",
       "building     0\n",
       "cropland     0\n",
       "wcover       0\n",
       "bcount       0\n",
       "x            0\n",
       "y            0\n",
       "bd20        45\n",
       "bio1         0\n",
       "bio12        0\n",
       "bio7         0\n",
       "bio15        0\n",
       "cec20       45\n",
       "dipa         0\n",
       "dni          0\n",
       "dnlt         0\n",
       "dnpa         0\n",
       "dor1         0\n",
       "dor2         0\n",
       "fpara        0\n",
       "fpars        0\n",
       "lcc10        0\n",
       "lcc11        0\n",
       "lcc12        0\n",
       "lcc13        0\n",
       "lcc14        0\n",
       "lcc21        0\n",
       "lcc8         0\n",
       "lcc9         0\n",
       "lstd        19\n",
       "lstn        19\n",
       "mb1          1\n",
       "mb2          1\n",
       "mb3          1\n",
       "mb7          1\n",
       "mdem         0\n",
       "mlat         0\n",
       "mlon         0\n",
       "nppm         0\n",
       "npps         0\n",
       "ph20        45\n",
       "sirm         0\n",
       "sirs         0\n",
       "slope        0\n",
       "snd20       45\n",
       "soc20       45\n",
       "tim          1\n",
       "dtype: int64"
      ]
     },
     "execution_count": 30,
     "metadata": {},
     "output_type": "execute_result"
    }
   ],
   "source": [
    "data_in.isna().sum()"
   ]
  },
  {
   "cell_type": "code",
   "execution_count": 41,
   "metadata": {},
   "outputs": [
    {
     "data": {
      "text/plain": [
       "False    15856\n",
       "Name: count, dtype: int64"
      ]
     },
     "execution_count": 41,
     "metadata": {},
     "output_type": "execute_result"
    }
   ],
   "source": [
    "data_in.shape\n",
    "data_in.duplicated().value_counts()"
   ]
  }
 ],
 "metadata": {
  "kernelspec": {
   "display_name": "Python 3",
   "language": "python",
   "name": "python3"
  },
  "language_info": {
   "codemirror_mode": {
    "name": "ipython",
    "version": 3
   },
   "file_extension": ".py",
   "mimetype": "text/x-python",
   "name": "python",
   "nbconvert_exporter": "python",
   "pygments_lexer": "ipython3",
   "version": "3.11.0rc1"
  }
 },
 "nbformat": 4,
 "nbformat_minor": 2
}
