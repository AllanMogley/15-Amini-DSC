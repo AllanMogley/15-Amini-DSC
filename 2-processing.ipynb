{
 "cells": [
  {
   "cell_type": "code",
   "execution_count": null,
   "metadata": {},
   "outputs": [],
   "source": [
    "import pandas as pd\n",
    "import seaborn as sns\n",
    "import matplotlib.pyplot as plt\n",
    "\n",
    "from sklearn.preprocessing import OrdinalEncoder, MinMaxScaler\n",
    "from tensorflow.keras.layers import LSTM, Dense, Input, Reshape, Dropout # type: ignore"
   ]
  },
  {
   "cell_type": "code",
   "execution_count": null,
   "metadata": {},
   "outputs": [],
   "source": [
    "path_train = '1-Resources/Technical Assesments/Task 1/train_land_cover_assignment.csv'\n",
    "path_test = '1-Resources/Technical Assesments/Task 1/test_land_cover_assignment.csv'\n",
    "data_in = pd.read_csv(path_train)"
   ]
  },
  {
   "cell_type": "markdown",
   "metadata": {},
   "source": [
    "## 1. EXPLORE DATASET"
   ]
  },
  {
   "cell_type": "markdown",
   "metadata": {},
   "source": [
    "### 1a. Categorical Columns"
   ]
  },
  {
   "cell_type": "code",
   "execution_count": null,
   "metadata": {},
   "outputs": [],
   "source": [
    "# Extract Categorical Columns\n",
    "cats = data_in.select_dtypes(include='object')\n",
    "cats.head(5)"
   ]
  },
  {
   "cell_type": "code",
   "execution_count": null,
   "metadata": {},
   "outputs": [],
   "source": [
    "# Check for Null values\n",
    "cats.isna().sum()"
   ]
  },
  {
   "cell_type": "code",
   "execution_count": null,
   "metadata": {},
   "outputs": [],
   "source": [
    "# ------------------------------------------------------------------\n",
    "# COUNT PLOTS FOR VALUE DISTRIBUTION\n",
    "# ------------------------------------------------------------------\n",
    "\n",
    "\n",
    "def dist_list(df):\n",
    "    plt.figure(figsize = (15, 60))\n",
    "    \n",
    "    # Hist Plots for each column by iteration\n",
    "    for i, col in enumerate(df, 1):\n",
    "        plt.subplot(16,3,i)\n",
    "        sns.countplot(data = df, x = df[col])\n",
    "        plt.title(f'{col}')\n",
    "    \n",
    "    # plt.suptitle('HISTOGRAM PLOTS')\n",
    "    plt.tight_layout()\n",
    "    plt.show()\n",
    "\n",
    "dist_list(cats)"
   ]
  },
  {
   "cell_type": "markdown",
   "metadata": {},
   "source": [
    "### Insights\n",
    "\n",
    "1. The woody Vegetation contains Cover contains values for >60% as well as >30 nd <30. Later on this will be subset to only >60%\n",
    "    The area is majorly >60% wood cover\n",
    "\n",
    "2. Building and Crop land have 2 Classfications ; No and Yes\n",
    "    The area has less building and crop land coverage\n",
    "\n",
    "3. There are no NULL or EMPTY Rows in this Categorical data\n",
    "\n",
    "\n",
    "### =======================================================================================================================================\n"
   ]
  },
  {
   "cell_type": "markdown",
   "metadata": {},
   "source": [
    "### 1b. Numerical Columns"
   ]
  },
  {
   "cell_type": "code",
   "execution_count": null,
   "metadata": {},
   "outputs": [],
   "source": [
    "numerics = data_in.select_dtypes(include='number')\n",
    "numerics.head(5)"
   ]
  },
  {
   "cell_type": "code",
   "execution_count": null,
   "metadata": {},
   "outputs": [],
   "source": [
    "# ------------------------------------------------------------------\n",
    "# HISTOGRAM PLOTS FOR NUMERICAL DISTRIBUTIONS\n",
    "# ------------------------------------------------------------------\n",
    "\n",
    "\n",
    "def dist_list(df):\n",
    "    plt.figure(figsize = (20, 40))\n",
    "    \n",
    "    # Hist Plots for each column by iteration\n",
    "    for i, col in enumerate(df, 1):\n",
    "        plt.subplot(16,3,i)\n",
    "        sns.histplot(data = df, x = df[col])\n",
    "        plt.title(f'{col}')\n",
    "\n",
    "    \n",
    "    plt.tight_layout()\n",
    "    plt.show()\n",
    "\n",
    "dist_list(numerics)"
   ]
  },
  {
   "cell_type": "code",
   "execution_count": null,
   "metadata": {},
   "outputs": [],
   "source": [
    "# ------------------------------------------------------------------\n",
    "# CORRELOGRAM PLOT\n",
    "# ------------------------------------------------------------------\n",
    "\n",
    "plt.figure(figsize = (20, 20))\n",
    "sns.heatmap(numerics.corr(),\n",
    "            annot = True, fmt = '.1f')\n",
    "plt.show()"
   ]
  },
  {
   "cell_type": "markdown",
   "metadata": {},
   "source": [
    "## 2. PREPARE DATA FOR ML"
   ]
  },
  {
   "cell_type": "markdown",
   "metadata": {},
   "source": [
    "### 2a. Handle Null Rows"
   ]
  },
  {
   "cell_type": "code",
   "execution_count": null,
   "metadata": {},
   "outputs": [],
   "source": [
    "# Extract Columns with Null values\n",
    "nulls = numerics.isna().sum().to_frame(name='Nulls')\n",
    "nulls_0 = nulls[nulls['Nulls'] > 0]\n",
    "nulls_0.T"
   ]
  },
  {
   "cell_type": "code",
   "execution_count": null,
   "metadata": {},
   "outputs": [],
   "source": [
    "# EXPLORE THE DISTRIBUTION OF VALUES IN COLUMNS WITH NULLS\n",
    "\n",
    "# Extract Null column names\n",
    "null_cols = nulls_0.T.columns.values\n",
    "def dist_list(df):\n",
    "    plt.figure(figsize = (20, 40))\n",
    "    \n",
    "    # Hist Plots for each column by iteration\n",
    "    for i, col in enumerate(df, 1):\n",
    "        plt.subplot(16,3,i)\n",
    "        sns.histplot(data = df, x = df[col])\n",
    "        plt.title(f'{col}')\n",
    "\n",
    "    \n",
    "    plt.tight_layout()\n",
    "    plt.show()\n",
    "\n",
    "dist_list(data_in[null_cols])"
   ]
  },
  {
   "cell_type": "markdown",
   "metadata": {},
   "source": [
    "The Columns with Nulls have a Continuous, we can fill these null values by Interpolation intead of dropping them"
   ]
  },
  {
   "cell_type": "code",
   "execution_count": null,
   "metadata": {},
   "outputs": [],
   "source": [
    "# Interpolate the null values using the nearest value\n",
    "data_in_2 = data_in.interpolate(method='nearest')\n",
    "# data_in.isna().sum()"
   ]
  },
  {
   "cell_type": "markdown",
   "metadata": {},
   "source": [
    "### 2b. Handle Duplicated Rows"
   ]
  },
  {
   "cell_type": "code",
   "execution_count": null,
   "metadata": {},
   "outputs": [],
   "source": [
    "data_in_2.duplicated().sum()\n",
    "# There are no duplicates"
   ]
  },
  {
   "cell_type": "markdown",
   "metadata": {},
   "source": [
    "### 2c. Categorical Columns Encoding"
   ]
  },
  {
   "cell_type": "code",
   "execution_count": null,
   "metadata": {},
   "outputs": [],
   "source": [
    "# Subset the data to WoodCover > 60%\n",
    "data_in_2 = data_in_2[data_in_2['wcover'] == '>60%']\n",
    "data_in_2 = data_in_2.reset_index()\n",
    "data_in_2.head(5)"
   ]
  },
  {
   "cell_type": "code",
   "execution_count": null,
   "metadata": {},
   "outputs": [],
   "source": [
    "# Encode Categorical Columns\n",
    "codes = data_in_2.copy()\n",
    "encoder = OrdinalEncoder()\n",
    "codes = encoder.fit_transform(codes[cats.columns])\n",
    "codes = pd.DataFrame(codes, columns = ['encode_building', 'encode_cropland', 'encode_wcover'])\n",
    "\n",
    "# Merge the 2dfs on index\n",
    "data_in_3 = pd.concat([codes, data_in_2], axis = 1)\n",
    "# data_in_3 = pd.merge(left=data_in_2, right=codes, left_index=True, right_index=True, how='right' )\n",
    "\n",
    "# Confirm Shapes after Join\n",
    "print('Codes', codes.shape)\n",
    "print('Data 2', data_in_2.shape)\n",
    "print('Data 3', data_in_3.shape)"
   ]
  },
  {
   "cell_type": "code",
   "execution_count": null,
   "metadata": {},
   "outputs": [],
   "source": [
    "data_in_3.head(7)"
   ]
  },
  {
   "cell_type": "markdown",
   "metadata": {},
   "source": [
    "### 2d. Numerical Columns Scaling\n",
    "\n",
    "Use a MinMaxScaler to scale data to range 0 - 1"
   ]
  },
  {
   "cell_type": "code",
   "execution_count": 149,
   "metadata": {},
   "outputs": [
    {
     "name": "stdout",
     "output_type": "stream",
     "text": [
      "Codes (7062, 3)\n",
      "Data 2 (7062, 45)\n",
      "Data 3 (7062, 48)\n"
     ]
    }
   ],
   "source": [
    "# Select Numeric Columns\n",
    "data_in_4 = data_in_3[numerics.columns]\n",
    "# Drop subid column\n",
    "data_in_4 = data_in_4.drop(columns = 'subid')\n",
    "\n",
    "# Create names for Scaled Columns\n",
    "scaled_cols = []\n",
    "for i in data_in_4.columns:\n",
    "    i = 'scaled_'+i\n",
    "    scaled_cols.append(i)\n",
    "    \n",
    "# Scale Numeric Columns\n",
    "scaler = MinMaxScaler()\n",
    "data_in_4 = scaler.fit_transform(data_in_4)\n",
    "# Create a DF and merge DFs\n",
    "data_in_4 = pd.DataFrame(data_in_4, columns = scaled_cols)\n",
    "data_in_5 = pd.concat([codes, data_in_4], axis = 1)\n",
    "\n",
    "# Confirm Shapes after Join\n",
    "print('Codes', codes.shape)\n",
    "print('Data 2', data_in_4.shape)\n",
    "print('Data 3', data_in_5.shape)"
   ]
  },
  {
   "cell_type": "code",
   "execution_count": 150,
   "metadata": {},
   "outputs": [
    {
     "data": {
      "text/html": [
       "<div>\n",
       "<style scoped>\n",
       "    .dataframe tbody tr th:only-of-type {\n",
       "        vertical-align: middle;\n",
       "    }\n",
       "\n",
       "    .dataframe tbody tr th {\n",
       "        vertical-align: top;\n",
       "    }\n",
       "\n",
       "    .dataframe thead th {\n",
       "        text-align: right;\n",
       "    }\n",
       "</style>\n",
       "<table border=\"1\" class=\"dataframe\">\n",
       "  <thead>\n",
       "    <tr style=\"text-align: right;\">\n",
       "      <th></th>\n",
       "      <th>encode_building</th>\n",
       "      <th>encode_cropland</th>\n",
       "      <th>encode_wcover</th>\n",
       "      <th>scaled_lat</th>\n",
       "      <th>scaled_lon</th>\n",
       "      <th>scaled_bcount</th>\n",
       "      <th>scaled_x</th>\n",
       "      <th>scaled_y</th>\n",
       "      <th>scaled_bd20</th>\n",
       "      <th>scaled_bio1</th>\n",
       "      <th>...</th>\n",
       "      <th>scaled_mlon</th>\n",
       "      <th>scaled_nppm</th>\n",
       "      <th>scaled_npps</th>\n",
       "      <th>scaled_ph20</th>\n",
       "      <th>scaled_sirm</th>\n",
       "      <th>scaled_sirs</th>\n",
       "      <th>scaled_slope</th>\n",
       "      <th>scaled_snd20</th>\n",
       "      <th>scaled_soc20</th>\n",
       "      <th>scaled_tim</th>\n",
       "    </tr>\n",
       "  </thead>\n",
       "  <tbody>\n",
       "    <tr>\n",
       "      <th>0</th>\n",
       "      <td>0.0</td>\n",
       "      <td>0.0</td>\n",
       "      <td>0.0</td>\n",
       "      <td>0.476351</td>\n",
       "      <td>0.633374</td>\n",
       "      <td>0.0</td>\n",
       "      <td>0.630476</td>\n",
       "      <td>0.462650</td>\n",
       "      <td>0.535604</td>\n",
       "      <td>0.810127</td>\n",
       "      <td>...</td>\n",
       "      <td>0.633374</td>\n",
       "      <td>0.357720</td>\n",
       "      <td>0.239044</td>\n",
       "      <td>0.821918</td>\n",
       "      <td>0.978220</td>\n",
       "      <td>0.743898</td>\n",
       "      <td>0.031763</td>\n",
       "      <td>0.801205</td>\n",
       "      <td>0.128342</td>\n",
       "      <td>0.184195</td>\n",
       "    </tr>\n",
       "    <tr>\n",
       "      <th>1</th>\n",
       "      <td>0.0</td>\n",
       "      <td>1.0</td>\n",
       "      <td>0.0</td>\n",
       "      <td>0.449686</td>\n",
       "      <td>0.871674</td>\n",
       "      <td>0.0</td>\n",
       "      <td>0.864381</td>\n",
       "      <td>0.426709</td>\n",
       "      <td>0.513932</td>\n",
       "      <td>0.822785</td>\n",
       "      <td>...</td>\n",
       "      <td>0.871676</td>\n",
       "      <td>0.289508</td>\n",
       "      <td>0.241364</td>\n",
       "      <td>0.657534</td>\n",
       "      <td>0.982638</td>\n",
       "      <td>0.644541</td>\n",
       "      <td>0.093402</td>\n",
       "      <td>0.668675</td>\n",
       "      <td>0.176471</td>\n",
       "      <td>0.191906</td>\n",
       "    </tr>\n",
       "    <tr>\n",
       "      <th>2</th>\n",
       "      <td>0.0</td>\n",
       "      <td>1.0</td>\n",
       "      <td>0.0</td>\n",
       "      <td>0.723253</td>\n",
       "      <td>0.906103</td>\n",
       "      <td>0.0</td>\n",
       "      <td>0.913524</td>\n",
       "      <td>0.699436</td>\n",
       "      <td>0.321981</td>\n",
       "      <td>0.860759</td>\n",
       "      <td>...</td>\n",
       "      <td>0.906102</td>\n",
       "      <td>0.232080</td>\n",
       "      <td>0.381851</td>\n",
       "      <td>0.780822</td>\n",
       "      <td>0.977256</td>\n",
       "      <td>0.652925</td>\n",
       "      <td>0.065564</td>\n",
       "      <td>0.644578</td>\n",
       "      <td>0.101604</td>\n",
       "      <td>0.266803</td>\n",
       "    </tr>\n",
       "    <tr>\n",
       "      <th>3</th>\n",
       "      <td>0.0</td>\n",
       "      <td>0.0</td>\n",
       "      <td>0.0</td>\n",
       "      <td>0.531858</td>\n",
       "      <td>0.357902</td>\n",
       "      <td>0.0</td>\n",
       "      <td>0.362667</td>\n",
       "      <td>0.529951</td>\n",
       "      <td>0.371517</td>\n",
       "      <td>0.746835</td>\n",
       "      <td>...</td>\n",
       "      <td>0.357901</td>\n",
       "      <td>0.389908</td>\n",
       "      <td>0.263494</td>\n",
       "      <td>0.547945</td>\n",
       "      <td>0.980492</td>\n",
       "      <td>0.626020</td>\n",
       "      <td>0.072418</td>\n",
       "      <td>0.680723</td>\n",
       "      <td>0.256684</td>\n",
       "      <td>0.302724</td>\n",
       "    </tr>\n",
       "    <tr>\n",
       "      <th>4</th>\n",
       "      <td>0.0</td>\n",
       "      <td>1.0</td>\n",
       "      <td>0.0</td>\n",
       "      <td>0.684215</td>\n",
       "      <td>0.433850</td>\n",
       "      <td>0.0</td>\n",
       "      <td>0.446857</td>\n",
       "      <td>0.680056</td>\n",
       "      <td>0.325077</td>\n",
       "      <td>0.734177</td>\n",
       "      <td>...</td>\n",
       "      <td>0.433847</td>\n",
       "      <td>0.370338</td>\n",
       "      <td>0.332989</td>\n",
       "      <td>0.452055</td>\n",
       "      <td>0.980600</td>\n",
       "      <td>0.686772</td>\n",
       "      <td>0.083805</td>\n",
       "      <td>0.283133</td>\n",
       "      <td>0.256684</td>\n",
       "      <td>0.406026</td>\n",
       "    </tr>\n",
       "    <tr>\n",
       "      <th>5</th>\n",
       "      <td>0.0</td>\n",
       "      <td>0.0</td>\n",
       "      <td>0.0</td>\n",
       "      <td>0.276752</td>\n",
       "      <td>0.773859</td>\n",
       "      <td>0.0</td>\n",
       "      <td>0.759238</td>\n",
       "      <td>0.256871</td>\n",
       "      <td>0.702786</td>\n",
       "      <td>0.759494</td>\n",
       "      <td>...</td>\n",
       "      <td>0.773861</td>\n",
       "      <td>0.798366</td>\n",
       "      <td>0.265504</td>\n",
       "      <td>0.438356</td>\n",
       "      <td>0.985573</td>\n",
       "      <td>0.650259</td>\n",
       "      <td>0.053663</td>\n",
       "      <td>0.518072</td>\n",
       "      <td>0.326203</td>\n",
       "      <td>0.194304</td>\n",
       "    </tr>\n",
       "    <tr>\n",
       "      <th>6</th>\n",
       "      <td>0.0</td>\n",
       "      <td>1.0</td>\n",
       "      <td>0.0</td>\n",
       "      <td>0.816221</td>\n",
       "      <td>0.230400</td>\n",
       "      <td>0.0</td>\n",
       "      <td>0.257143</td>\n",
       "      <td>0.822410</td>\n",
       "      <td>0.213622</td>\n",
       "      <td>0.746835</td>\n",
       "      <td>...</td>\n",
       "      <td>0.230396</td>\n",
       "      <td>0.296900</td>\n",
       "      <td>0.367112</td>\n",
       "      <td>0.602740</td>\n",
       "      <td>0.984314</td>\n",
       "      <td>0.674381</td>\n",
       "      <td>0.045365</td>\n",
       "      <td>0.271084</td>\n",
       "      <td>0.219251</td>\n",
       "      <td>0.532458</td>\n",
       "    </tr>\n",
       "  </tbody>\n",
       "</table>\n",
       "<p>7 rows × 48 columns</p>\n",
       "</div>"
      ],
      "text/plain": [
       "   encode_building  encode_cropland  encode_wcover  scaled_lat  scaled_lon  \\\n",
       "0              0.0              0.0            0.0    0.476351    0.633374   \n",
       "1              0.0              1.0            0.0    0.449686    0.871674   \n",
       "2              0.0              1.0            0.0    0.723253    0.906103   \n",
       "3              0.0              0.0            0.0    0.531858    0.357902   \n",
       "4              0.0              1.0            0.0    0.684215    0.433850   \n",
       "5              0.0              0.0            0.0    0.276752    0.773859   \n",
       "6              0.0              1.0            0.0    0.816221    0.230400   \n",
       "\n",
       "   scaled_bcount  scaled_x  scaled_y  scaled_bd20  scaled_bio1  ...  \\\n",
       "0            0.0  0.630476  0.462650     0.535604     0.810127  ...   \n",
       "1            0.0  0.864381  0.426709     0.513932     0.822785  ...   \n",
       "2            0.0  0.913524  0.699436     0.321981     0.860759  ...   \n",
       "3            0.0  0.362667  0.529951     0.371517     0.746835  ...   \n",
       "4            0.0  0.446857  0.680056     0.325077     0.734177  ...   \n",
       "5            0.0  0.759238  0.256871     0.702786     0.759494  ...   \n",
       "6            0.0  0.257143  0.822410     0.213622     0.746835  ...   \n",
       "\n",
       "   scaled_mlon  scaled_nppm  scaled_npps  scaled_ph20  scaled_sirm  \\\n",
       "0     0.633374     0.357720     0.239044     0.821918     0.978220   \n",
       "1     0.871676     0.289508     0.241364     0.657534     0.982638   \n",
       "2     0.906102     0.232080     0.381851     0.780822     0.977256   \n",
       "3     0.357901     0.389908     0.263494     0.547945     0.980492   \n",
       "4     0.433847     0.370338     0.332989     0.452055     0.980600   \n",
       "5     0.773861     0.798366     0.265504     0.438356     0.985573   \n",
       "6     0.230396     0.296900     0.367112     0.602740     0.984314   \n",
       "\n",
       "   scaled_sirs  scaled_slope  scaled_snd20  scaled_soc20  scaled_tim  \n",
       "0     0.743898      0.031763      0.801205      0.128342    0.184195  \n",
       "1     0.644541      0.093402      0.668675      0.176471    0.191906  \n",
       "2     0.652925      0.065564      0.644578      0.101604    0.266803  \n",
       "3     0.626020      0.072418      0.680723      0.256684    0.302724  \n",
       "4     0.686772      0.083805      0.283133      0.256684    0.406026  \n",
       "5     0.650259      0.053663      0.518072      0.326203    0.194304  \n",
       "6     0.674381      0.045365      0.271084      0.219251    0.532458  \n",
       "\n",
       "[7 rows x 48 columns]"
      ]
     },
     "execution_count": 150,
     "metadata": {},
     "output_type": "execute_result"
    }
   ],
   "source": [
    "data_in_5.head(7)"
   ]
  },
  {
   "cell_type": "markdown",
   "metadata": {},
   "source": [
    "## 3. ML MODELLING"
   ]
  },
  {
   "cell_type": "code",
   "execution_count": null,
   "metadata": {},
   "outputs": [],
   "source": [
    "# MODEL ARCHITECTURES\n",
    "# ! rm *.keras*\n",
    "\n",
    "epochs_n = 350 # Number of Training Epochs\n",
    "l_rate = 0.001 # Learning Rate\n",
    "\n",
    "model_lstm_close = Sequential()\n",
    "model_lstm_close.add(Input(shape=(seq_length, 5)))\n",
    "model_lstm_close.add(LSTM(76, activation='relu', return_sequences=False))\n",
    "model_lstm_close.add(Dense(close_y_train.shape[1]))\n",
    "model_lstm_close.add(Reshape((close_y_train.shape[1], 1)))\n",
    "model_lstm_close.compile(optimizer=Adam(learning_rate=l_rate), loss='mse', metrics = ['mae'])"
   ]
  },
  {
   "cell_type": "code",
   "execution_count": null,
   "metadata": {},
   "outputs": [],
   "source": [
    "model_lstm_close.fit(close_x_train, close_y_train, epochs=epochs_n, batch_size=32, validation_data=(close_x_test, close_y_test),\n",
    "                     callbacks=[ModelCheckpoint('best_close_model2.keras', save_best_only=True)])"
   ]
  }
 ],
 "metadata": {
  "kernelspec": {
   "display_name": "Python 3",
   "language": "python",
   "name": "python3"
  },
  "language_info": {
   "codemirror_mode": {
    "name": "ipython",
    "version": 3
   },
   "file_extension": ".py",
   "mimetype": "text/x-python",
   "name": "python",
   "nbconvert_exporter": "python",
   "pygments_lexer": "ipython3",
   "version": "3.11.0rc1"
  }
 },
 "nbformat": 4,
 "nbformat_minor": 2
}
