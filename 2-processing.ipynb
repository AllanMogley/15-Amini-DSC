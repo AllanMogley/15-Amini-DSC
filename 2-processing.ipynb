{
 "cells": [
  {
   "cell_type": "code",
   "execution_count": null,
   "metadata": {},
   "outputs": [],
   "source": [
    "import pandas as pd\n",
    "import seaborn as sns\n",
    "import matplotlib.pyplot as plt"
   ]
  },
  {
   "cell_type": "code",
   "execution_count": null,
   "metadata": {},
   "outputs": [],
   "source": [
    "path_train = '1-Resources/Technical Assesments/Task 1/train_land_cover_assignment.csv'\n",
    "data_in = pd.read_csv(path_train)"
   ]
  },
  {
   "cell_type": "markdown",
   "metadata": {},
   "source": [
    "## 1. Explore Dataset"
   ]
  },
  {
   "cell_type": "code",
   "execution_count": null,
   "metadata": {},
   "outputs": [],
   "source": [
    "data_in.shape # Rows and Columns\n",
    "data_in.columns # Data Columns"
   ]
  },
  {
   "cell_type": "markdown",
   "metadata": {},
   "source": [
    "### 1a. Categorical Columns"
   ]
  },
  {
   "cell_type": "code",
   "execution_count": null,
   "metadata": {},
   "outputs": [],
   "source": [
    "# Extract Categorical Columns\n",
    "cats = data_in.select_dtypes(include='object')\n",
    "cats.head(10)"
   ]
  },
  {
   "cell_type": "code",
   "execution_count": null,
   "metadata": {},
   "outputs": [],
   "source": [
    "# Check for Null values\n",
    "cats.isna().sum()"
   ]
  },
  {
   "cell_type": "code",
   "execution_count": null,
   "metadata": {},
   "outputs": [],
   "source": [
    "# ------------------------------------------------------------------\n",
    "# COUNT PLOTS FOR VALUE DISTRIBUTION\n",
    "# ------------------------------------------------------------------\n",
    "\n",
    "\n",
    "def dist_list(df):\n",
    "    plt.figure(figsize = (15, 60))\n",
    "    \n",
    "    # Hist Plots for each column by iteration\n",
    "    for i, col in enumerate(df, 1):\n",
    "        plt.subplot(16,3,i)\n",
    "        sns.countplot(data = df, x = df[col])\n",
    "        plt.title(f'{col}')\n",
    "    \n",
    "    # plt.suptitle('HISTOGRAM PLOTS')\n",
    "    plt.tight_layout()\n",
    "    plt.show()\n",
    "\n",
    "dist_list(cats)"
   ]
  },
  {
   "cell_type": "markdown",
   "metadata": {},
   "source": [
    "### Insights\n",
    "\n",
    "1. The woody Vegetation contains Cover contains values for >60% as well as >30 nd <30. Later on this will be subset to only >60%\n",
    "    The area is majorly >60% wood cover\n",
    "\n",
    "2. Building and Crop land have 2 Classfications ; No and Yes\n",
    "    The area has less building and crop land coverage\n",
    "\n",
    "3. There are no NULL or EMPTY Rows in this Categorical data\n",
    "\n",
    "\n",
    "### =======================================================================================================================================\n"
   ]
  },
  {
   "cell_type": "markdown",
   "metadata": {},
   "source": [
    "### 1b. Numerical Columns"
   ]
  },
  {
   "cell_type": "code",
   "execution_count": null,
   "metadata": {},
   "outputs": [],
   "source": [
    "numerics = data_in.select_dtypes(include='number')\n",
    "numerics.head(10)"
   ]
  },
  {
   "cell_type": "code",
   "execution_count": null,
   "metadata": {},
   "outputs": [],
   "source": [
    "# ------------------------------------------------------------------\n",
    "# HISTOGRAM PLOTS FOR NUMERICAL DISTRIBUTIONS\n",
    "# ------------------------------------------------------------------\n",
    "\n",
    "\n",
    "def dist_list(df):\n",
    "    plt.figure(figsize = (20, 40))\n",
    "    \n",
    "    # Hist Plots for each column by iteration\n",
    "    for i, col in enumerate(df, 1):\n",
    "        plt.subplot(16,3,i)\n",
    "        sns.histplot(data = df, x = df[col])\n",
    "        plt.title(f'{col}')\n",
    "\n",
    "    \n",
    "    plt.tight_layout()\n",
    "    plt.show()\n",
    "\n",
    "dist_list(numerics)"
   ]
  },
  {
   "cell_type": "code",
   "execution_count": null,
   "metadata": {},
   "outputs": [],
   "source": [
    "# ------------------------------------------------------------------\n",
    "# CORRELOGRAM PLOT\n",
    "# ------------------------------------------------------------------\n",
    "\n",
    "plt.figure(figsize = (20, 20))\n",
    "sns.heatmap(numerics.corr(),\n",
    "            annot = True, fmt = '.1f')\n",
    "plt.show()"
   ]
  },
  {
   "cell_type": "markdown",
   "metadata": {},
   "source": [
    "## 2. Prepare Data for ML"
   ]
  },
  {
   "cell_type": "markdown",
   "metadata": {},
   "source": [
    "### 2a. Handle Null Rows"
   ]
  },
  {
   "cell_type": "code",
   "execution_count": null,
   "metadata": {},
   "outputs": [],
   "source": [
    "# Extract Columns with Null values\n",
    "nulls = numerics.isna().sum().to_frame(name='Nulls')\n",
    "nulls_0 = nulls[nulls['Nulls'] > 0]\n",
    "nulls_0.T"
   ]
  },
  {
   "cell_type": "code",
   "execution_count": null,
   "metadata": {},
   "outputs": [],
   "source": [
    "# EXPLORE THE DISTRIBUTION OF VALUES IN COLUMNS WITH NULLS\n",
    "\n",
    "# Extract Null column names\n",
    "null_cols = nulls_0.T.columns.values\n",
    "def dist_list(df):\n",
    "    plt.figure(figsize = (20, 40))\n",
    "    \n",
    "    # Hist Plots for each column by iteration\n",
    "    for i, col in enumerate(df, 1):\n",
    "        plt.subplot(16,3,i)\n",
    "        sns.histplot(data = df, x = df[col])\n",
    "        plt.title(f'{col}')\n",
    "\n",
    "    \n",
    "    plt.tight_layout()\n",
    "    plt.show()\n",
    "\n",
    "dist_list(data_in[null_cols])"
   ]
  },
  {
   "cell_type": "markdown",
   "metadata": {},
   "source": [
    "The Columns with Nulls have a Continuous, we can fill these null values by Interpolation intead of dropping them"
   ]
  },
  {
   "cell_type": "code",
   "execution_count": null,
   "metadata": {},
   "outputs": [],
   "source": [
    "# Interpolate the null values using the nearest value\n",
    "data_in = data_in.interpolate(method='nearest')\n",
    "data_in.isna().sum()"
   ]
  },
  {
   "cell_type": "markdown",
   "metadata": {},
   "source": [
    "### 2b. Handle Duplicated Rows"
   ]
  },
  {
   "cell_type": "code",
   "execution_count": null,
   "metadata": {},
   "outputs": [
    {
     "data": {
      "text/plain": [
       "np.int64(0)"
      ]
     },
     "execution_count": 162,
     "metadata": {},
     "output_type": "execute_result"
    }
   ],
   "source": [
    "data_in.duplicated().sum()\n",
    "# There are no duplicates"
   ]
  },
  {
   "cell_type": "code",
   "execution_count": 163,
   "metadata": {},
   "outputs": [
    {
     "data": {
      "text/html": [
       "<div>\n",
       "<style scoped>\n",
       "    .dataframe tbody tr th:only-of-type {\n",
       "        vertical-align: middle;\n",
       "    }\n",
       "\n",
       "    .dataframe tbody tr th {\n",
       "        vertical-align: top;\n",
       "    }\n",
       "\n",
       "    .dataframe thead th {\n",
       "        text-align: right;\n",
       "    }\n",
       "</style>\n",
       "<table border=\"1\" class=\"dataframe\">\n",
       "  <thead>\n",
       "    <tr style=\"text-align: right;\">\n",
       "      <th></th>\n",
       "      <th>subid</th>\n",
       "      <th>lat</th>\n",
       "      <th>lon</th>\n",
       "      <th>building</th>\n",
       "      <th>cropland</th>\n",
       "      <th>wcover</th>\n",
       "      <th>bcount</th>\n",
       "      <th>x</th>\n",
       "      <th>y</th>\n",
       "      <th>bd20</th>\n",
       "      <th>...</th>\n",
       "      <th>mlon</th>\n",
       "      <th>nppm</th>\n",
       "      <th>npps</th>\n",
       "      <th>ph20</th>\n",
       "      <th>sirm</th>\n",
       "      <th>sirs</th>\n",
       "      <th>slope</th>\n",
       "      <th>snd20</th>\n",
       "      <th>soc20</th>\n",
       "      <th>tim</th>\n",
       "    </tr>\n",
       "  </thead>\n",
       "  <tbody>\n",
       "    <tr>\n",
       "      <th>0</th>\n",
       "      <td>1548937</td>\n",
       "      <td>7.387687</td>\n",
       "      <td>-4.780390</td>\n",
       "      <td>No</td>\n",
       "      <td>No</td>\n",
       "      <td>&gt;60%</td>\n",
       "      <td>0.0</td>\n",
       "      <td>-2.714375e+06</td>\n",
       "      <td>321874.969864</td>\n",
       "      <td>1.4900</td>\n",
       "      <td>...</td>\n",
       "      <td>-4.781606</td>\n",
       "      <td>5052.299805</td>\n",
       "      <td>853.451416</td>\n",
       "      <td>6.100</td>\n",
       "      <td>0.717054</td>\n",
       "      <td>0.008259</td>\n",
       "      <td>0.729217</td>\n",
       "      <td>66.75</td>\n",
       "      <td>12.25</td>\n",
       "      <td>8.079082</td>\n",
       "    </tr>\n",
       "    <tr>\n",
       "      <th>1</th>\n",
       "      <td>1548936</td>\n",
       "      <td>8.690266</td>\n",
       "      <td>-5.770243</td>\n",
       "      <td>No</td>\n",
       "      <td>Yes</td>\n",
       "      <td>&lt;30%</td>\n",
       "      <td>0.0</td>\n",
       "      <td>-2.812625e+06</td>\n",
       "      <td>474124.973063</td>\n",
       "      <td>1.2925</td>\n",
       "      <td>...</td>\n",
       "      <td>-5.771476</td>\n",
       "      <td>5316.700195</td>\n",
       "      <td>933.074402</td>\n",
       "      <td>5.575</td>\n",
       "      <td>0.717198</td>\n",
       "      <td>0.007242</td>\n",
       "      <td>1.086981</td>\n",
       "      <td>51.50</td>\n",
       "      <td>14.25</td>\n",
       "      <td>9.549431</td>\n",
       "    </tr>\n",
       "    <tr>\n",
       "      <th>2</th>\n",
       "      <td>1548935</td>\n",
       "      <td>8.518763</td>\n",
       "      <td>-2.808147</td>\n",
       "      <td>No</td>\n",
       "      <td>Yes</td>\n",
       "      <td>&lt;30%</td>\n",
       "      <td>0.0</td>\n",
       "      <td>-2.495125e+06</td>\n",
       "      <td>440374.986977</td>\n",
       "      <td>1.3050</td>\n",
       "      <td>...</td>\n",
       "      <td>-2.809363</td>\n",
       "      <td>4519.700195</td>\n",
       "      <td>1186.817627</td>\n",
       "      <td>5.850</td>\n",
       "      <td>0.717171</td>\n",
       "      <td>0.006744</td>\n",
       "      <td>1.159993</td>\n",
       "      <td>47.00</td>\n",
       "      <td>14.50</td>\n",
       "      <td>10.523131</td>\n",
       "    </tr>\n",
       "    <tr>\n",
       "      <th>3</th>\n",
       "      <td>1548934</td>\n",
       "      <td>8.637725</td>\n",
       "      <td>-3.048867</td>\n",
       "      <td>No</td>\n",
       "      <td>No</td>\n",
       "      <td>&lt;30%</td>\n",
       "      <td>0.0</td>\n",
       "      <td>-2.520375e+06</td>\n",
       "      <td>454875.008083</td>\n",
       "      <td>1.3275</td>\n",
       "      <td>...</td>\n",
       "      <td>-3.050085</td>\n",
       "      <td>3439.800049</td>\n",
       "      <td>910.979309</td>\n",
       "      <td>5.950</td>\n",
       "      <td>0.718244</td>\n",
       "      <td>0.007917</td>\n",
       "      <td>2.471163</td>\n",
       "      <td>62.75</td>\n",
       "      <td>12.75</td>\n",
       "      <td>9.305363</td>\n",
       "    </tr>\n",
       "  </tbody>\n",
       "</table>\n",
       "<p>4 rows × 49 columns</p>\n",
       "</div>"
      ],
      "text/plain": [
       "     subid       lat       lon building cropland wcover  bcount             x  \\\n",
       "0  1548937  7.387687 -4.780390       No       No   >60%     0.0 -2.714375e+06   \n",
       "1  1548936  8.690266 -5.770243       No      Yes   <30%     0.0 -2.812625e+06   \n",
       "2  1548935  8.518763 -2.808147       No      Yes   <30%     0.0 -2.495125e+06   \n",
       "3  1548934  8.637725 -3.048867       No       No   <30%     0.0 -2.520375e+06   \n",
       "\n",
       "               y    bd20  ...      mlon         nppm         npps   ph20  \\\n",
       "0  321874.969864  1.4900  ... -4.781606  5052.299805   853.451416  6.100   \n",
       "1  474124.973063  1.2925  ... -5.771476  5316.700195   933.074402  5.575   \n",
       "2  440374.986977  1.3050  ... -2.809363  4519.700195  1186.817627  5.850   \n",
       "3  454875.008083  1.3275  ... -3.050085  3439.800049   910.979309  5.950   \n",
       "\n",
       "       sirm      sirs     slope  snd20  soc20        tim  \n",
       "0  0.717054  0.008259  0.729217  66.75  12.25   8.079082  \n",
       "1  0.717198  0.007242  1.086981  51.50  14.25   9.549431  \n",
       "2  0.717171  0.006744  1.159993  47.00  14.50  10.523131  \n",
       "3  0.718244  0.007917  2.471163  62.75  12.75   9.305363  \n",
       "\n",
       "[4 rows x 49 columns]"
      ]
     },
     "execution_count": 163,
     "metadata": {},
     "output_type": "execute_result"
    }
   ],
   "source": [
    "data_in.head(5)"
   ]
  }
 ],
 "metadata": {
  "kernelspec": {
   "display_name": "Python 3",
   "language": "python",
   "name": "python3"
  },
  "language_info": {
   "codemirror_mode": {
    "name": "ipython",
    "version": 3
   },
   "file_extension": ".py",
   "mimetype": "text/x-python",
   "name": "python",
   "nbconvert_exporter": "python",
   "pygments_lexer": "ipython3",
   "version": "3.11.0rc1"
  }
 },
 "nbformat": 4,
 "nbformat_minor": 2
}
